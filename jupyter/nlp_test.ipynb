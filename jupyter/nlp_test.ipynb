{
 "cells": [
  {
   "cell_type": "code",
   "execution_count": 1,
   "metadata": {
    "collapsed": true
   },
   "outputs": [
    {
     "ename": "ModuleNotFoundError",
     "evalue": "No module named 'hanspell'",
     "output_type": "error",
     "traceback": [
      "\u001B[1;31m---------------------------------------------------------------------------\u001B[0m",
      "\u001B[1;31mModuleNotFoundError\u001B[0m                       Traceback (most recent call last)",
      "\u001B[1;32m<ipython-input-1-d6418a10362c>\u001B[0m in \u001B[0;36m<module>\u001B[1;34m\u001B[0m\n\u001B[0;32m      1\u001B[0m \u001B[1;32mfrom\u001B[0m \u001B[0mnltk\u001B[0m \u001B[1;32mimport\u001B[0m \u001B[0msent_tokenize\u001B[0m\u001B[1;33m,\u001B[0m \u001B[0mword_tokenize\u001B[0m\u001B[1;33m\u001B[0m\u001B[1;33m\u001B[0m\u001B[0m\n\u001B[0;32m      2\u001B[0m \u001B[1;32mfrom\u001B[0m \u001B[0mkonlpy\u001B[0m\u001B[1;33m.\u001B[0m\u001B[0mtag\u001B[0m \u001B[1;32mimport\u001B[0m \u001B[0mHannanum\u001B[0m \u001B[1;32mas\u001B[0m \u001B[0mhnm\u001B[0m\u001B[1;33m\u001B[0m\u001B[1;33m\u001B[0m\u001B[0m\n\u001B[1;32m----> 3\u001B[1;33m \u001B[1;32mfrom\u001B[0m \u001B[0mhanspell\u001B[0m \u001B[1;32mimport\u001B[0m \u001B[0mspell_checker\u001B[0m\u001B[1;33m\u001B[0m\u001B[1;33m\u001B[0m\u001B[0m\n\u001B[0m\u001B[0;32m      4\u001B[0m \u001B[1;32mfrom\u001B[0m \u001B[0mpykospacing\u001B[0m \u001B[1;32mimport\u001B[0m \u001B[0mSpacing\u001B[0m\u001B[1;33m\u001B[0m\u001B[1;33m\u001B[0m\u001B[0m\n\u001B[0;32m      5\u001B[0m \u001B[1;32mimport\u001B[0m \u001B[0murllib\u001B[0m\u001B[1;33m.\u001B[0m\u001B[0mrequest\u001B[0m\u001B[1;33m\u001B[0m\u001B[1;33m\u001B[0m\u001B[0m\n",
      "\u001B[1;31mModuleNotFoundError\u001B[0m: No module named 'hanspell'"
     ]
    }
   ],
   "source": [
    "from nltk import sent_tokenize, word_tokenize\n",
    "from konlpy.tag import Hannanum as hnm\n",
    "from hanspell import spell_checker\n",
    "from pykospacing import Spacing\n",
    "import urllib.request\n",
    "from soynlp import DoublespaceLineCorpus\n",
    "from soynlp.word import WordExtractor\n",
    "from konlpy.tag import Okt\n",
    "\n",
    "def tokenize_text(input): # 단어 토큰화\n",
    "    sentences = sent_tokenize(text=input)\n",
    "    word_tokens = [word_tokenize(sentence) for sentence in sentences]\n",
    "    return word_tokens\n",
    "\n",
    "\n",
    "def spell_check(input): # 문장 체크\n",
    "    spelled_sent = spell_checker.check(input)\n",
    "    hanspell_sent = spelled_sent.checked\n",
    "    return hanspell_sent"
   ]
  },
  {
   "cell_type": "code",
   "execution_count": 5,
   "outputs": [
    {
     "ename": "ModuleNotFoundError",
     "evalue": "No module named 'hanspell'",
     "output_type": "error",
     "traceback": [
      "\u001B[1;31m---------------------------------------------------------------------------\u001B[0m",
      "\u001B[1;31mModuleNotFoundError\u001B[0m                       Traceback (most recent call last)",
      "\u001B[1;32m<ipython-input-5-b95bc6fa9bf9>\u001B[0m in \u001B[0;36m<module>\u001B[1;34m\u001B[0m\n\u001B[0;32m      1\u001B[0m \u001B[1;32mfrom\u001B[0m \u001B[0mnltk\u001B[0m \u001B[1;32mimport\u001B[0m \u001B[0msent_tokenize\u001B[0m\u001B[1;33m,\u001B[0m \u001B[0mword_tokenize\u001B[0m\u001B[1;33m\u001B[0m\u001B[1;33m\u001B[0m\u001B[0m\n\u001B[0;32m      2\u001B[0m \u001B[1;32mfrom\u001B[0m \u001B[0mkonlpy\u001B[0m\u001B[1;33m.\u001B[0m\u001B[0mtag\u001B[0m \u001B[1;32mimport\u001B[0m \u001B[0mHannanum\u001B[0m \u001B[1;32mas\u001B[0m \u001B[0mhnm\u001B[0m\u001B[1;33m\u001B[0m\u001B[1;33m\u001B[0m\u001B[0m\n\u001B[1;32m----> 3\u001B[1;33m \u001B[1;32mfrom\u001B[0m \u001B[0mhanspell\u001B[0m \u001B[1;32mimport\u001B[0m \u001B[0mspell_checker\u001B[0m\u001B[1;33m\u001B[0m\u001B[1;33m\u001B[0m\u001B[0m\n\u001B[0m\u001B[0;32m      4\u001B[0m \u001B[1;32mfrom\u001B[0m \u001B[0mpykospacing\u001B[0m \u001B[1;32mimport\u001B[0m \u001B[0mSpacing\u001B[0m\u001B[1;33m\u001B[0m\u001B[1;33m\u001B[0m\u001B[0m\n\u001B[0;32m      5\u001B[0m \u001B[1;32mimport\u001B[0m \u001B[0murllib\u001B[0m\u001B[1;33m.\u001B[0m\u001B[0mrequest\u001B[0m\u001B[1;33m\u001B[0m\u001B[1;33m\u001B[0m\u001B[0m\n",
      "\u001B[1;31mModuleNotFoundError\u001B[0m: No module named 'hanspell'"
     ]
    }
   ],
   "source": [
    "from nltk import sent_tokenize, word_tokenize\n",
    "from konlpy.tag import Hannanum as hnm\n",
    "from hanspell import spell_checker\n",
    "from pykospacing import Spacing\n",
    "import urllib.request\n",
    "from soynlp import DoublespaceLineCorpus\n",
    "from soynlp.word import WordExtractor\n",
    "from konlpy.tag import Okt\n",
    "\n",
    "def tokenize_text(input): # 단어 토큰화\n",
    "    sentences = sent_tokenize(text=input)\n",
    "    word_tokens = [word_tokenize(sentence) for sentence in sentences]\n",
    "    return word_tokens\n",
    "\n",
    "\n",
    "def spell_check(input): # 문장 체크\n",
    "    spelled_sent = spell_checker.check(input)\n",
    "    hanspell_sent = spelled_sent.checked\n",
    "    return hanspell_sent\n",
    "\n"
   ],
   "metadata": {
    "collapsed": false,
    "pycharm": {
     "name": "#%%\n"
    }
   }
  }
 ],
 "metadata": {
  "kernelspec": {
   "display_name": "Python 3",
   "language": "python",
   "name": "python3"
  },
  "language_info": {
   "codemirror_mode": {
    "name": "ipython",
    "version": 2
   },
   "file_extension": ".py",
   "mimetype": "text/x-python",
   "name": "python",
   "nbconvert_exporter": "python",
   "pygments_lexer": "ipython2",
   "version": "2.7.6"
  }
 },
 "nbformat": 4,
 "nbformat_minor": 0
}